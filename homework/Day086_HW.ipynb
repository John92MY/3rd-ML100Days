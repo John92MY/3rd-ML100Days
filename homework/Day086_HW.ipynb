{
 "cells": [
  {
   "cell_type": "markdown",
   "metadata": {},
   "source": [
    "## Work\n",
    "1. 試比較 save_best_only 與否的差異\n",
    "2. 請僅存入將 save_weights_only 設定為 True, 並嘗試 reset ipynb 並將模型與權重重新建回並預測 x_test"
   ]
  },
  {
   "cell_type": "code",
   "execution_count": 1,
   "metadata": {},
   "outputs": [
    {
     "name": "stderr",
     "output_type": "stream",
     "text": [
      "Using TensorFlow backend.\n"
     ]
    }
   ],
   "source": [
    "import os\n",
    "import keras\n",
    "\n",
    "# Disable GPU\n",
    "os.environ[\"CUDA_VISIBLE_DEVICES\"] = \"\""
   ]
  },
  {
   "cell_type": "code",
   "execution_count": 2,
   "metadata": {},
   "outputs": [],
   "source": [
    "train, test = keras.datasets.cifar10.load_data()"
   ]
  },
  {
   "cell_type": "code",
   "execution_count": 3,
   "metadata": {},
   "outputs": [],
   "source": [
    "## 資料前處理\n",
    "def preproc_x(x, flatten=True):\n",
    "    x = x / 255.\n",
    "    if flatten:\n",
    "        x = x.reshape((len(x), -1))\n",
    "    return x\n",
    "\n",
    "def preproc_y(y, num_classes=10):\n",
    "    if y.shape[-1] == 1:\n",
    "        y = keras.utils.to_categorical(y, num_classes)\n",
    "    return y    "
   ]
  },
  {
   "cell_type": "code",
   "execution_count": 4,
   "metadata": {},
   "outputs": [],
   "source": [
    "x_train, y_train = train\n",
    "x_test, y_test = test\n",
    "\n",
    "# Preproc the inputs\n",
    "x_train = preproc_x(x_train)\n",
    "x_test = preproc_x(x_test)\n",
    "\n",
    "# Preprc the outputs\n",
    "y_train = preproc_y(y_train)\n",
    "y_test = preproc_y(y_test)"
   ]
  },
  {
   "cell_type": "code",
   "execution_count": 5,
   "metadata": {},
   "outputs": [],
   "source": [
    "from keras.layers import BatchNormalization\n",
    "\n",
    "def build_mlp(input_shape, output_units=10, num_neurons=[512,256,128]):\n",
    "    \"\"\"Code Here\n",
    "    建立你的神經網路\n",
    "    \"\"\"\n",
    "    \n",
    "    input_layer = keras.layers.Input(input_shape)\n",
    "    \n",
    "    for i , n_units in enumerate(num_neurons):\n",
    "        if i == 0:\n",
    "            x = keras.layers.Dense(units=n_units,\n",
    "                                  activation=\"relu\",\n",
    "                                  name=\"hidden_layer\"+str(i+1))(input_layer)\n",
    "            x = BatchNormalization()(x)\n",
    "        \n",
    "        else:\n",
    "            x = keras.layers.Dense(units=n_units,\n",
    "                                  activation=\"relu\",\n",
    "                                  name=\"hidden_layer\"+str(i+1))(x)\n",
    "            x = BatchNormalization()(x)\n",
    "        \n",
    "    out = keras.layers.Dense(units=output_units,activation=\"softmax\",name = \"output\")(x)\n",
    "        \n",
    "    model = keras.models.Model(inputs=[input_layer], outputs=[out])\n",
    "    \n",
    "    return model"
   ]
  },
  {
   "cell_type": "code",
   "execution_count": 6,
   "metadata": {},
   "outputs": [],
   "source": [
    "\"\"\"Code Here\n",
    "設定超參數\n",
    "\"\"\"\n",
    "\n",
    "LEARNING_RATE = 1e-3\n",
    "EPOCHS = 50\n",
    "BATCH_SIZE = 1024\n",
    "MOMENTUM = 0.95"
   ]
  },
  {
   "cell_type": "code",
   "execution_count": 7,
   "metadata": {},
   "outputs": [
    {
     "name": "stdout",
     "output_type": "stream",
     "text": [
      "Model: \"model_1\"\n",
      "_________________________________________________________________\n",
      "Layer (type)                 Output Shape              Param #   \n",
      "=================================================================\n",
      "input_1 (InputLayer)         (None, 3072)              0         \n",
      "_________________________________________________________________\n",
      "hidden_layer1 (Dense)        (None, 512)               1573376   \n",
      "_________________________________________________________________\n",
      "batch_normalization_1 (Batch (None, 512)               2048      \n",
      "_________________________________________________________________\n",
      "hidden_layer2 (Dense)        (None, 256)               131328    \n",
      "_________________________________________________________________\n",
      "batch_normalization_2 (Batch (None, 256)               1024      \n",
      "_________________________________________________________________\n",
      "hidden_layer3 (Dense)        (None, 128)               32896     \n",
      "_________________________________________________________________\n",
      "batch_normalization_3 (Batch (None, 128)               512       \n",
      "_________________________________________________________________\n",
      "output (Dense)               (None, 10)                1290      \n",
      "=================================================================\n",
      "Total params: 1,742,474\n",
      "Trainable params: 1,740,682\n",
      "Non-trainable params: 1,792\n",
      "_________________________________________________________________\n",
      "Train on 50000 samples, validate on 10000 samples\n",
      "Epoch 1/50\n",
      "50000/50000 [==============================] - 8s 153us/step - loss: 2.2299 - accuracy: 0.2641 - val_loss: 2.1420 - val_accuracy: 0.2119\n",
      "Epoch 2/50\n",
      "50000/50000 [==============================] - 8s 161us/step - loss: 1.7385 - accuracy: 0.3934 - val_loss: 1.9399 - val_accuracy: 0.3107\n",
      "Epoch 3/50\n",
      "50000/50000 [==============================] - 6s 125us/step - loss: 1.6131 - accuracy: 0.4362 - val_loss: 1.8134 - val_accuracy: 0.3676\n",
      "Epoch 4/50\n",
      "50000/50000 [==============================] - 6s 119us/step - loss: 1.5414 - accuracy: 0.4615 - val_loss: 1.7151 - val_accuracy: 0.4093\n",
      "Epoch 5/50\n",
      "50000/50000 [==============================] - 6s 119us/step - loss: 1.4867 - accuracy: 0.4819 - val_loss: 1.6438 - val_accuracy: 0.4359\n",
      "Epoch 6/50\n",
      "50000/50000 [==============================] - 6s 126us/step - loss: 1.4426 - accuracy: 0.4982 - val_loss: 1.5965 - val_accuracy: 0.4433\n",
      "Epoch 7/50\n",
      "50000/50000 [==============================] - 6s 124us/step - loss: 1.4050 - accuracy: 0.5097 - val_loss: 1.5548 - val_accuracy: 0.4533\n",
      "Epoch 8/50\n",
      "50000/50000 [==============================] - 6s 126us/step - loss: 1.3684 - accuracy: 0.5239 - val_loss: 1.5319 - val_accuracy: 0.4640\n",
      "Epoch 9/50\n",
      "50000/50000 [==============================] - 6s 119us/step - loss: 1.3375 - accuracy: 0.5356 - val_loss: 1.5169 - val_accuracy: 0.4671\n",
      "Epoch 10/50\n",
      "50000/50000 [==============================] - 6s 117us/step - loss: 1.3055 - accuracy: 0.5481 - val_loss: 1.4993 - val_accuracy: 0.4713\n",
      "Epoch 11/50\n",
      "50000/50000 [==============================] - 6s 118us/step - loss: 1.2776 - accuracy: 0.5573 - val_loss: 1.4885 - val_accuracy: 0.4757\n",
      "Epoch 12/50\n",
      "50000/50000 [==============================] - 6s 117us/step - loss: 1.2508 - accuracy: 0.5675 - val_loss: 1.4801 - val_accuracy: 0.4760\n",
      "Epoch 13/50\n",
      "50000/50000 [==============================] - 6s 119us/step - loss: 1.2249 - accuracy: 0.5767 - val_loss: 1.4817 - val_accuracy: 0.4794\n",
      "Epoch 14/50\n",
      "50000/50000 [==============================] - 6s 118us/step - loss: 1.2009 - accuracy: 0.5859 - val_loss: 1.4814 - val_accuracy: 0.4837\n",
      "Epoch 15/50\n",
      "50000/50000 [==============================] - 7s 130us/step - loss: 1.1779 - accuracy: 0.5948 - val_loss: 1.4674 - val_accuracy: 0.4822\n",
      "Epoch 16/50\n",
      "50000/50000 [==============================] - 6s 119us/step - loss: 1.1542 - accuracy: 0.6037 - val_loss: 1.4640 - val_accuracy: 0.4892\n",
      "Epoch 17/50\n",
      "50000/50000 [==============================] - 7s 132us/step - loss: 1.1317 - accuracy: 0.6102 - val_loss: 1.4607 - val_accuracy: 0.4914\n",
      "Epoch 18/50\n",
      "50000/50000 [==============================] - 6s 117us/step - loss: 1.1070 - accuracy: 0.6194 - val_loss: 1.4603 - val_accuracy: 0.4895\n",
      "Epoch 19/50\n",
      "50000/50000 [==============================] - 6s 116us/step - loss: 1.0882 - accuracy: 0.6265 - val_loss: 1.4667 - val_accuracy: 0.4921\n",
      "Epoch 20/50\n",
      "50000/50000 [==============================] - 6s 118us/step - loss: 1.0646 - accuracy: 0.6362 - val_loss: 1.4608 - val_accuracy: 0.4914\n",
      "Epoch 21/50\n",
      "50000/50000 [==============================] - 6s 117us/step - loss: 1.0435 - accuracy: 0.6439 - val_loss: 1.4685 - val_accuracy: 0.4898\n",
      "Epoch 22/50\n",
      "50000/50000 [==============================] - 6s 116us/step - loss: 1.0220 - accuracy: 0.6525 - val_loss: 1.4575 - val_accuracy: 0.4929\n",
      "Epoch 23/50\n",
      "50000/50000 [==============================] - 6s 117us/step - loss: 1.0009 - accuracy: 0.6609 - val_loss: 1.4796 - val_accuracy: 0.4918\n",
      "Epoch 24/50\n",
      "50000/50000 [==============================] - 6s 118us/step - loss: 0.9783 - accuracy: 0.6685 - val_loss: 1.4636 - val_accuracy: 0.4971\n",
      "Epoch 25/50\n",
      "50000/50000 [==============================] - 6s 120us/step - loss: 0.9600 - accuracy: 0.6767 - val_loss: 1.4757 - val_accuracy: 0.4912\n",
      "Epoch 26/50\n",
      "50000/50000 [==============================] - 6s 117us/step - loss: 0.9388 - accuracy: 0.6863 - val_loss: 1.4887 - val_accuracy: 0.4911\n",
      "Epoch 27/50\n",
      "50000/50000 [==============================] - 6s 118us/step - loss: 0.9196 - accuracy: 0.6929 - val_loss: 1.4740 - val_accuracy: 0.5016\n",
      "Epoch 28/50\n",
      "50000/50000 [==============================] - 6s 118us/step - loss: 0.8991 - accuracy: 0.7007 - val_loss: 1.4913 - val_accuracy: 0.4958\n",
      "Epoch 29/50\n",
      "50000/50000 [==============================] - 6s 118us/step - loss: 0.8796 - accuracy: 0.7088 - val_loss: 1.4807 - val_accuracy: 0.5000\n",
      "Epoch 30/50\n",
      "50000/50000 [==============================] - 6s 116us/step - loss: 0.8570 - accuracy: 0.7173 - val_loss: 1.4874 - val_accuracy: 0.4993\n",
      "Epoch 31/50\n",
      "50000/50000 [==============================] - 6s 117us/step - loss: 0.8376 - accuracy: 0.7260 - val_loss: 1.4936 - val_accuracy: 0.5011\n",
      "Epoch 32/50\n",
      "50000/50000 [==============================] - 6s 116us/step - loss: 0.8194 - accuracy: 0.7332 - val_loss: 1.5032 - val_accuracy: 0.4978\n",
      "Epoch 33/50\n",
      "50000/50000 [==============================] - 6s 117us/step - loss: 0.8000 - accuracy: 0.7419 - val_loss: 1.5130 - val_accuracy: 0.4947\n",
      "Epoch 34/50\n",
      "50000/50000 [==============================] - 6s 116us/step - loss: 0.7791 - accuracy: 0.7483 - val_loss: 1.5325 - val_accuracy: 0.4946\n",
      "Epoch 35/50\n",
      "50000/50000 [==============================] - 6s 117us/step - loss: 0.7609 - accuracy: 0.7565 - val_loss: 1.5238 - val_accuracy: 0.4967\n",
      "Epoch 36/50\n",
      "50000/50000 [==============================] - 6s 116us/step - loss: 0.7439 - accuracy: 0.7620 - val_loss: 1.5516 - val_accuracy: 0.4931\n",
      "Epoch 37/50\n",
      "50000/50000 [==============================] - 6s 119us/step - loss: 0.7213 - accuracy: 0.7718 - val_loss: 1.5401 - val_accuracy: 0.4917\n",
      "Epoch 38/50\n",
      "50000/50000 [==============================] - 6s 118us/step - loss: 0.7046 - accuracy: 0.7777 - val_loss: 1.5447 - val_accuracy: 0.4953\n",
      "Epoch 39/50\n",
      "50000/50000 [==============================] - 6s 117us/step - loss: 0.6857 - accuracy: 0.7847 - val_loss: 1.5532 - val_accuracy: 0.4978\n",
      "Epoch 40/50\n",
      "50000/50000 [==============================] - 6s 117us/step - loss: 0.6661 - accuracy: 0.7930 - val_loss: 1.5594 - val_accuracy: 0.4920\n",
      "Epoch 41/50\n",
      "50000/50000 [==============================] - 6s 116us/step - loss: 0.6484 - accuracy: 0.8011 - val_loss: 1.5621 - val_accuracy: 0.4930\n",
      "Epoch 42/50\n",
      "50000/50000 [==============================] - 6s 116us/step - loss: 0.6286 - accuracy: 0.8093 - val_loss: 1.5722 - val_accuracy: 0.4949\n",
      "Epoch 43/50\n",
      "50000/50000 [==============================] - 6s 117us/step - loss: 0.6123 - accuracy: 0.8151 - val_loss: 1.5964 - val_accuracy: 0.4954\n",
      "Epoch 44/50\n",
      "50000/50000 [==============================] - 6s 116us/step - loss: 0.5925 - accuracy: 0.8223 - val_loss: 1.6241 - val_accuracy: 0.4946\n",
      "Epoch 45/50\n",
      "50000/50000 [==============================] - 6s 117us/step - loss: 0.5772 - accuracy: 0.8287 - val_loss: 1.6104 - val_accuracy: 0.4991\n",
      "Epoch 46/50\n"
     ]
    },
    {
     "name": "stdout",
     "output_type": "stream",
     "text": [
      "50000/50000 [==============================] - 6s 116us/step - loss: 0.5582 - accuracy: 0.8375 - val_loss: 1.6211 - val_accuracy: 0.4971\n",
      "Epoch 47/50\n",
      "50000/50000 [==============================] - 6s 117us/step - loss: 0.5421 - accuracy: 0.8442 - val_loss: 1.6403 - val_accuracy: 0.4953\n",
      "Epoch 48/50\n",
      "50000/50000 [==============================] - 6s 117us/step - loss: 0.5251 - accuracy: 0.8494 - val_loss: 1.6598 - val_accuracy: 0.4904\n",
      "Epoch 49/50\n",
      "50000/50000 [==============================] - 6s 116us/step - loss: 0.5082 - accuracy: 0.8561 - val_loss: 1.6654 - val_accuracy: 0.4914\n",
      "Epoch 50/50\n",
      "50000/50000 [==============================] - 6s 116us/step - loss: 0.4917 - accuracy: 0.8617 - val_loss: 1.6761 - val_accuracy: 0.4968\n",
      "Model: \"model_2\"\n",
      "_________________________________________________________________\n",
      "Layer (type)                 Output Shape              Param #   \n",
      "=================================================================\n",
      "input_2 (InputLayer)         (None, 3072)              0         \n",
      "_________________________________________________________________\n",
      "hidden_layer1 (Dense)        (None, 512)               1573376   \n",
      "_________________________________________________________________\n",
      "batch_normalization_4 (Batch (None, 512)               2048      \n",
      "_________________________________________________________________\n",
      "hidden_layer2 (Dense)        (None, 256)               131328    \n",
      "_________________________________________________________________\n",
      "batch_normalization_5 (Batch (None, 256)               1024      \n",
      "_________________________________________________________________\n",
      "hidden_layer3 (Dense)        (None, 128)               32896     \n",
      "_________________________________________________________________\n",
      "batch_normalization_6 (Batch (None, 128)               512       \n",
      "_________________________________________________________________\n",
      "output (Dense)               (None, 10)                1290      \n",
      "=================================================================\n",
      "Total params: 1,742,474\n",
      "Trainable params: 1,740,682\n",
      "Non-trainable params: 1,792\n",
      "_________________________________________________________________\n",
      "Train on 50000 samples, validate on 10000 samples\n",
      "Epoch 1/50\n",
      "50000/50000 [==============================] - 6s 126us/step - loss: 2.2262 - accuracy: 0.2653 - val_loss: 2.1591 - val_accuracy: 0.2030\n",
      "Epoch 2/50\n",
      "50000/50000 [==============================] - 6s 119us/step - loss: 1.7387 - accuracy: 0.3955 - val_loss: 2.0206 - val_accuracy: 0.2634\n",
      "Epoch 3/50\n",
      "50000/50000 [==============================] - 6s 117us/step - loss: 1.6147 - accuracy: 0.4364 - val_loss: 1.8482 - val_accuracy: 0.3486\n",
      "Epoch 4/50\n",
      "50000/50000 [==============================] - 6s 119us/step - loss: 1.5418 - accuracy: 0.4606 - val_loss: 1.7285 - val_accuracy: 0.3994\n",
      "Epoch 5/50\n",
      "50000/50000 [==============================] - 6s 116us/step - loss: 1.4856 - accuracy: 0.4813 - val_loss: 1.6309 - val_accuracy: 0.4353\n",
      "Epoch 6/50\n",
      "50000/50000 [==============================] - 6s 118us/step - loss: 1.4404 - accuracy: 0.4965 - val_loss: 1.5773 - val_accuracy: 0.4523\n",
      "Epoch 7/50\n",
      "50000/50000 [==============================] - 6s 119us/step - loss: 1.3993 - accuracy: 0.5097 - val_loss: 1.5461 - val_accuracy: 0.4556\n",
      "Epoch 8/50\n",
      "50000/50000 [==============================] - 6s 118us/step - loss: 1.3665 - accuracy: 0.5227 - val_loss: 1.5148 - val_accuracy: 0.4623\n",
      "Epoch 9/50\n",
      "50000/50000 [==============================] - 6s 118us/step - loss: 1.3339 - accuracy: 0.5354 - val_loss: 1.5109 - val_accuracy: 0.4673\n",
      "Epoch 10/50\n",
      "50000/50000 [==============================] - 6s 118us/step - loss: 1.3045 - accuracy: 0.5454 - val_loss: 1.4988 - val_accuracy: 0.4685\n",
      "Epoch 11/50\n",
      "50000/50000 [==============================] - 6s 118us/step - loss: 1.2761 - accuracy: 0.5568 - val_loss: 1.4759 - val_accuracy: 0.4751\n",
      "Epoch 12/50\n",
      "50000/50000 [==============================] - 6s 118us/step - loss: 1.2485 - accuracy: 0.5665 - val_loss: 1.4781 - val_accuracy: 0.4785\n",
      "Epoch 13/50\n",
      "50000/50000 [==============================] - 6s 116us/step - loss: 1.2229 - accuracy: 0.5776 - val_loss: 1.4719 - val_accuracy: 0.4841\n",
      "Epoch 14/50\n",
      "50000/50000 [==============================] - 6s 118us/step - loss: 1.1979 - accuracy: 0.5857 - val_loss: 1.4654 - val_accuracy: 0.4858\n",
      "Epoch 15/50\n",
      "50000/50000 [==============================] - 6s 117us/step - loss: 1.1743 - accuracy: 0.5945 - val_loss: 1.4594 - val_accuracy: 0.4877\n",
      "Epoch 16/50\n",
      "50000/50000 [==============================] - 6s 118us/step - loss: 1.1498 - accuracy: 0.6037 - val_loss: 1.4778 - val_accuracy: 0.4825\n",
      "Epoch 17/50\n",
      "50000/50000 [==============================] - 6s 118us/step - loss: 1.1289 - accuracy: 0.6126 - val_loss: 1.4586 - val_accuracy: 0.4870\n",
      "Epoch 18/50\n",
      "50000/50000 [==============================] - 6s 116us/step - loss: 1.1059 - accuracy: 0.6199 - val_loss: 1.4624 - val_accuracy: 0.4847\n",
      "Epoch 19/50\n",
      "50000/50000 [==============================] - 6s 117us/step - loss: 1.0835 - accuracy: 0.6272 - val_loss: 1.4641 - val_accuracy: 0.4894\n",
      "Epoch 20/50\n",
      "50000/50000 [==============================] - 6s 118us/step - loss: 1.0626 - accuracy: 0.6372 - val_loss: 1.4517 - val_accuracy: 0.4891\n",
      "Epoch 21/50\n",
      "50000/50000 [==============================] - 6s 118us/step - loss: 1.0401 - accuracy: 0.6461 - val_loss: 1.4558 - val_accuracy: 0.4966\n",
      "Epoch 22/50\n",
      "50000/50000 [==============================] - 6s 117us/step - loss: 1.0197 - accuracy: 0.6541 - val_loss: 1.4566 - val_accuracy: 0.4900\n",
      "Epoch 23/50\n",
      "50000/50000 [==============================] - 6s 118us/step - loss: 0.9984 - accuracy: 0.6622 - val_loss: 1.4555 - val_accuracy: 0.4960\n",
      "Epoch 24/50\n",
      "50000/50000 [==============================] - 6s 119us/step - loss: 0.9759 - accuracy: 0.6723 - val_loss: 1.4596 - val_accuracy: 0.4950\n",
      "Epoch 25/50\n",
      "50000/50000 [==============================] - 6s 119us/step - loss: 0.9585 - accuracy: 0.6768 - val_loss: 1.4599 - val_accuracy: 0.4939\n",
      "Epoch 26/50\n",
      "50000/50000 [==============================] - 6s 120us/step - loss: 0.9352 - accuracy: 0.6869 - val_loss: 1.4585 - val_accuracy: 0.4992\n",
      "Epoch 27/50\n",
      "50000/50000 [==============================] - 6s 118us/step - loss: 0.9140 - accuracy: 0.6960 - val_loss: 1.4669 - val_accuracy: 0.4946\n",
      "Epoch 28/50\n",
      "50000/50000 [==============================] - 6s 118us/step - loss: 0.8945 - accuracy: 0.7026 - val_loss: 1.4803 - val_accuracy: 0.4974\n",
      "Epoch 29/50\n",
      "50000/50000 [==============================] - 6s 118us/step - loss: 0.8743 - accuracy: 0.7108 - val_loss: 1.4715 - val_accuracy: 0.4940\n",
      "Epoch 30/50\n",
      "50000/50000 [==============================] - 6s 118us/step - loss: 0.8563 - accuracy: 0.7180 - val_loss: 1.4843 - val_accuracy: 0.4995\n",
      "Epoch 31/50\n",
      "50000/50000 [==============================] - 6s 117us/step - loss: 0.8335 - accuracy: 0.7260 - val_loss: 1.4768 - val_accuracy: 0.4999\n",
      "Epoch 32/50\n",
      "50000/50000 [==============================] - 6s 119us/step - loss: 0.8130 - accuracy: 0.7330 - val_loss: 1.4906 - val_accuracy: 0.4985\n",
      "Epoch 33/50\n",
      "50000/50000 [==============================] - 7s 140us/step - loss: 0.7943 - accuracy: 0.7416 - val_loss: 1.5015 - val_accuracy: 0.4950\n",
      "Epoch 34/50\n",
      "50000/50000 [==============================] - 6s 126us/step - loss: 0.7744 - accuracy: 0.7481 - val_loss: 1.5011 - val_accuracy: 0.5002\n",
      "Epoch 35/50\n",
      "50000/50000 [==============================] - 6s 128us/step - loss: 0.7546 - accuracy: 0.7574 - val_loss: 1.5037 - val_accuracy: 0.4978\n",
      "Epoch 36/50\n",
      "50000/50000 [==============================] - 6s 118us/step - loss: 0.7365 - accuracy: 0.7660 - val_loss: 1.5241 - val_accuracy: 0.4933\n",
      "Epoch 37/50\n",
      "50000/50000 [==============================] - 6s 117us/step - loss: 0.7178 - accuracy: 0.7728 - val_loss: 1.5399 - val_accuracy: 0.4962\n",
      "Epoch 38/50\n",
      "50000/50000 [==============================] - 6s 117us/step - loss: 0.6989 - accuracy: 0.7802 - val_loss: 1.5335 - val_accuracy: 0.4942\n",
      "Epoch 39/50\n",
      "50000/50000 [==============================] - 6s 118us/step - loss: 0.6779 - accuracy: 0.7897 - val_loss: 1.5459 - val_accuracy: 0.4930\n",
      "Epoch 40/50\n",
      "50000/50000 [==============================] - 6s 117us/step - loss: 0.6610 - accuracy: 0.7939 - val_loss: 1.5560 - val_accuracy: 0.4965\n",
      "Epoch 41/50\n"
     ]
    },
    {
     "name": "stdout",
     "output_type": "stream",
     "text": [
      "50000/50000 [==============================] - 6s 116us/step - loss: 0.6409 - accuracy: 0.8036 - val_loss: 1.5698 - val_accuracy: 0.4914\n",
      "Epoch 42/50\n",
      "50000/50000 [==============================] - 6s 123us/step - loss: 0.6239 - accuracy: 0.8108 - val_loss: 1.5840 - val_accuracy: 0.4919\n",
      "Epoch 43/50\n",
      "50000/50000 [==============================] - 6s 117us/step - loss: 0.6070 - accuracy: 0.8168 - val_loss: 1.5799 - val_accuracy: 0.4969\n",
      "Epoch 44/50\n",
      "50000/50000 [==============================] - 6s 117us/step - loss: 0.5890 - accuracy: 0.8253 - val_loss: 1.6081 - val_accuracy: 0.4904\n",
      "Epoch 45/50\n",
      "50000/50000 [==============================] - 6s 117us/step - loss: 0.5710 - accuracy: 0.8312 - val_loss: 1.6230 - val_accuracy: 0.4905\n",
      "Epoch 46/50\n",
      "50000/50000 [==============================] - 6s 117us/step - loss: 0.5527 - accuracy: 0.8388 - val_loss: 1.6348 - val_accuracy: 0.4914\n",
      "Epoch 47/50\n",
      "50000/50000 [==============================] - 6s 118us/step - loss: 0.5381 - accuracy: 0.8439 - val_loss: 1.6325 - val_accuracy: 0.4921\n",
      "Epoch 48/50\n",
      "50000/50000 [==============================] - 6s 117us/step - loss: 0.5204 - accuracy: 0.8524 - val_loss: 1.6976 - val_accuracy: 0.4817\n",
      "Epoch 49/50\n",
      "50000/50000 [==============================] - 6s 117us/step - loss: 0.5026 - accuracy: 0.8588 - val_loss: 1.6787 - val_accuracy: 0.4882\n",
      "Epoch 50/50\n",
      "50000/50000 [==============================] - 6s 117us/step - loss: 0.4873 - accuracy: 0.8644 - val_loss: 1.6788 - val_accuracy: 0.4884\n"
     ]
    }
   ],
   "source": [
    "# 載入 Callbacks\n",
    "\"\"\"Code Here\n",
    "設定 callbacks: model checkpoint\n",
    "\"\"\"\n",
    "from keras.callbacks import ModelCheckpoint\n",
    "\n",
    "results = {}\n",
    "\"\"\"Code Here\n",
    "撰寫你的訓練流程並將結果用 dictionary 紀錄\n",
    "\"\"\"\n",
    "\n",
    "for tf in [True,False]:\n",
    "    \n",
    "    model_ckpt = ModelCheckpoint(filepath=\"./tmp_\"+str(tf)+\".h5\",\n",
    "                                monitor=\"val_loss\",\n",
    "                                save_best_only=tf)\n",
    "    \n",
    "    model = build_mlp(input_shape=x_train.shape[1:])\n",
    "    model.summary()\n",
    "    optimizer=keras.optimizers.SGD(lr=LEARNING_RATE, nesterov=True, momentum=MOMENTUM)\n",
    "    model.compile(loss=\"categorical_crossentropy\", metrics=[\"accuracy\"], optimizer=optimizer)\n",
    "    \n",
    "    model.fit(x_train, y_train,\n",
    "             epochs=EPOCHS,\n",
    "             batch_size=BATCH_SIZE,\n",
    "             validation_data=(x_test,y_test),\n",
    "             shuffle=True,\n",
    "             callbacks=[model_ckpt]\n",
    "             )\n",
    "    \n",
    "    train_loss = model.history.history[\"loss\"]\n",
    "    valid_loss = model.history.history[\"val_loss\"]\n",
    "    train_acc = model.history.history[\"accuracy\"]\n",
    "    valid_acc = model.history.history[\"val_accuracy\"]\n",
    "    \n",
    "    exp = \"Save Best Only - \" + str(tf)\n",
    "    results[exp] = {'train-loss': train_loss,\n",
    "                    'valid-loss': valid_loss,\n",
    "                    'train-acc': train_acc,\n",
    "                    'valid-acc': valid_acc}"
   ]
  },
  {
   "cell_type": "code",
   "execution_count": 8,
   "metadata": {},
   "outputs": [
    {
     "name": "stdout",
     "output_type": "stream",
     "text": [
      "10000/10000 [==============================] - 1s 102us/step\n",
      "10000/10000 [==============================] - 1s 102us/step\n"
     ]
    }
   ],
   "source": [
    "# Load back\n",
    "model_true = keras.models.load_model(\"./tmp_true.h5\")\n",
    "model_false = keras.models.load_model(\"./tmp_false.h5\")\n",
    "loss_loadback_true, acc_loadback_true = model_true.evaluate(x_test, y_test)\n",
    "loss_loadback_false, acc_loadback_false = model_false.evaluate(x_test, y_test)"
   ]
  },
  {
   "cell_type": "code",
   "execution_count": 11,
   "metadata": {
    "scrolled": false
   },
   "outputs": [
    {
     "data": {
      "image/png": "[encoded data removed]",
      "text/plain": [
       "<Figure size 1008x720 with 1 Axes>"
      ]
     },
     "metadata": {
      "needs_background": "light"
     },
     "output_type": "display_data"
    },
    {
     "data": {
      "image/png": "[encoded data removed]",
      "text/plain": [
       "<Figure size 1008x720 with 1 Axes>"
      ]
     },
     "metadata": {
      "needs_background": "light"
     },
     "output_type": "display_data"
    }
   ],
   "source": [
    "import matplotlib.pyplot as plt\n",
    "%matplotlib inline\n",
    "\"\"\"Code Here\n",
    "將結果繪出\n",
    "\"\"\"\n",
    "\n",
    "color_bar = [\"r\", \"b\"]\n",
    "\n",
    "plt.figure(figsize=(14,10))\n",
    "for i, cond in enumerate(results.keys()):\n",
    "    plt.plot(range(len(results[cond]['train-loss'])),results[cond]['train-loss'], '-', label=cond, color=color_bar[i])\n",
    "    plt.plot(range(len(results[cond]['valid-loss'])),results[cond]['valid-loss'], '--', label=cond, color=color_bar[i])\n",
    "plt.hlines(y=loss_loadback_true, xmin=0, xmax=len(train_loss), colors='k', linestyles='--',label='Best = True')\n",
    "plt.hlines(y=loss_loadback_false, xmin=0, xmax=len(train_loss), colors='m', linestyles='--',label='Best = False')\n",
    "plt.title(\"Loss\")\n",
    "plt.ylim([0, 5])\n",
    "plt.legend()\n",
    "plt.show()\n",
    "\n",
    "plt.figure(figsize=(14,10))\n",
    "for i, cond in enumerate(results.keys()):\n",
    "    plt.plot(range(len(results[cond]['train-acc'])),results[cond]['train-acc'], '-', label=cond, color=color_bar[i])\n",
    "    plt.plot(range(len(results[cond]['valid-acc'])),results[cond]['valid-acc'], '--', label=cond, color=color_bar[i])\n",
    "plt.hlines(y=acc_loadback_true, xmin=0, xmax=len(train_loss), colors='k', linestyles='--',label='Best = True')\n",
    "plt.hlines(y=acc_loadback_false, xmin=0, xmax=len(train_loss), colors='m', linestyles='--',label='Best = False')\n",
    "plt.title(\"Accuracy\")\n",
    "plt.legend()\n",
    "plt.show()"
   ]
  },
  {
   "cell_type": "code",
   "execution_count": 12,
   "metadata": {},
   "outputs": [
    {
     "data": {
      "text/plain": [
       "<keras.engine.training.Model at 0x2d0f1518>"
      ]
     },
     "execution_count": 12,
     "metadata": {},
     "output_type": "execute_result"
    }
   ],
   "source": [
    "model_true"
   ]
  },
  {
   "cell_type": "code",
   "execution_count": 16,
   "metadata": {},
   "outputs": [],
   "source": [
    "model_true.save('model.h5')\n",
    "model_true.save_weights('model_weights.h5')"
   ]
  },
  {
   "cell_type": "code",
   "execution_count": 17,
   "metadata": {},
   "outputs": [
    {
     "data": {
      "text/plain": [
       "array([[0.045756  , 0.05592475, 0.32319134, 0.22143912, 0.08393869,\n",
       "        0.11766303, 0.10242924, 0.00203213, 0.04655721, 0.00106847]],\n",
       "      dtype=float32)"
      ]
     },
     "execution_count": 17,
     "metadata": {},
     "output_type": "execute_result"
    }
   ],
   "source": [
    "model_true.predict(x_test[0:1])"
   ]
  },
  {
   "cell_type": "code",
   "execution_count": 21,
   "metadata": {},
   "outputs": [],
   "source": [
    "del model"
   ]
  },
  {
   "cell_type": "code",
   "execution_count": 23,
   "metadata": {
    "scrolled": true
   },
   "outputs": [
    {
     "name": "stdout",
     "output_type": "stream",
     "text": [
      "Model: \"model_3\"\n",
      "_________________________________________________________________\n",
      "Layer (type)                 Output Shape              Param #   \n",
      "=================================================================\n",
      "input_3 (InputLayer)         (None, 3072)              0         \n",
      "_________________________________________________________________\n",
      "hidden_layer1 (Dense)        (None, 512)               1573376   \n",
      "_________________________________________________________________\n",
      "batch_normalization_7 (Batch (None, 512)               2048      \n",
      "_________________________________________________________________\n",
      "hidden_layer2 (Dense)        (None, 256)               131328    \n",
      "_________________________________________________________________\n",
      "batch_normalization_8 (Batch (None, 256)               1024      \n",
      "_________________________________________________________________\n",
      "hidden_layer3 (Dense)        (None, 128)               32896     \n",
      "_________________________________________________________________\n",
      "batch_normalization_9 (Batch (None, 128)               512       \n",
      "_________________________________________________________________\n",
      "output (Dense)               (None, 10)                1290      \n",
      "=================================================================\n",
      "Total params: 1,742,474\n",
      "Trainable params: 1,740,682\n",
      "Non-trainable params: 1,792\n",
      "_________________________________________________________________\n"
     ]
    }
   ],
   "source": [
    "model = build_mlp(input_shape=x_train.shape[1:])\n",
    "model.summary()\n",
    "optimizer=keras.optimizers.SGD(lr=LEARNING_RATE, nesterov=True, momentum=MOMENTUM)\n",
    "model.compile(loss=\"categorical_crossentropy\", metrics=[\"accuracy\"], optimizer=optimizer)\n"
   ]
  },
  {
   "cell_type": "code",
   "execution_count": 24,
   "metadata": {},
   "outputs": [],
   "source": [
    "model.load_weights('model_weights.h5')"
   ]
  },
  {
   "cell_type": "code",
   "execution_count": 25,
   "metadata": {},
   "outputs": [
    {
     "data": {
      "text/plain": [
       "array([[0.045756  , 0.05592475, 0.32319134, 0.22143912, 0.08393869,\n",
       "        0.11766303, 0.10242924, 0.00203213, 0.04655721, 0.00106847]],\n",
       "      dtype=float32)"
      ]
     },
     "execution_count": 25,
     "metadata": {},
     "output_type": "execute_result"
    }
   ],
   "source": [
    "model.predict(x_test[0:1])"
   ]
  }
 ],
 "metadata": {
  "kernelspec": {
   "display_name": "Python 3",
   "language": "python",
   "name": "python3"
  },
  "language_info": {
   "codemirror_mode": {
    "name": "ipython",
    "version": 3
   },
   "file_extension": ".py",
   "mimetype": "text/x-python",
   "name": "python",
   "nbconvert_exporter": "python",
   "pygments_lexer": "ipython3",
   "version": "3.7.1"
  }
 },
 "nbformat": 4,
 "nbformat_minor": 2
}
