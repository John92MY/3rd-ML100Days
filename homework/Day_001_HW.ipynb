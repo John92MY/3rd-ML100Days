{
 "cells": [
  {
   "cell_type": "markdown",
   "metadata": {},
   "source": [
    "## 練習時間\n",
    "#### 請寫一個函式用來計算 Mean Square Error\n",
    "$ MSE = \\frac{1}{n}\\sum_{i=1}^{n}{(Y_i - \\hat{Y}_i)^2} $\n",
    "\n",
    "### Hint: [如何取平方](https://googoodesign.gitbooks.io/-ezpython/unit-1.html)"
   ]
  },
  {
   "cell_type": "markdown",
   "metadata": {},
   "source": [
    "# [作業目標]\n",
    "- 仿造範例的MAE函數, 自己寫一個MSE函數(參考上面公式)"
   ]
  },
  {
   "cell_type": "markdown",
   "metadata": {},
   "source": [
    "# [作業重點]\n",
    "- 注意程式的縮排\n",
    "- 是否能將數學公式, 轉換為 Python 的函式組合? (In[2], Out[2])"
   ]
  },
  {
   "cell_type": "code",
   "execution_count": 3,
   "metadata": {},
   "outputs": [],
   "source": [
    "# 載入基礎套件與代稱\n",
    "import numpy as np\n",
    "import matplotlib.pyplot as plt"
   ]
  },
  {
   "cell_type": "code",
   "execution_count": 4,
   "metadata": {},
   "outputs": [],
   "source": [
    "def mean_absolute_error(y, yp):\n",
    "    \"\"\"\n",
    "    計算 MAE\n",
    "    Args:\n",
    "        - y: 實際值\n",
    "        - yp: 預測值\n",
    "    Return:\n",
    "        - mae: MAE\n",
    "    \"\"\"\n",
    "    mae = MAE = sum(abs(y - yp)) / len(y)\n",
    "    return mae\n",
    "\n",
    "# 定義 mean_squared_error 這個函數, 計算並傳回 MSE\n",
    "def mean_squared_error(y, yp):\n",
    "    \"\"\"\n",
    "    請完成這個 Function 後往下執行\n",
    "    \"\"\"\n",
    "    mse = MSE = sum(pow(y - yp,2))/len(y)\n",
    "    return mse"
   ]
  },
  {
   "cell_type": "code",
   "execution_count": 5,
   "metadata": {},
   "outputs": [
    {
     "data": {
      "image/png": "[encoded data removed]",
      "text/plain": [
       "<Figure size 432x288 with 1 Axes>"
      ]
     },
     "metadata": {
      "needs_background": "light"
     },
     "output_type": "display_data"
    }
   ],
   "source": [
    "# 與範例相同, 不另外解說\n",
    "w = 3\n",
    "b = 0.5\n",
    "x_lin = np.linspace(0, 100, 101)\n",
    "y = (x_lin + np.random.randn(101) * 5) * w + b\n",
    "\n",
    "plt.plot(x_lin, y, 'b.', label = 'data points')\n",
    "plt.title(\"Assume we have data points\")\n",
    "plt.legend(loc = 2)\n",
    "plt.show()"
   ]
  },
  {
   "cell_type": "code",
   "execution_count": 6,
   "metadata": {},
   "outputs": [
    {
     "data": {
      "image/png": "[encoded data removed]",
      "text/plain": [
       "<Figure size 432x288 with 1 Axes>"
      ]
     },
     "metadata": {
      "needs_background": "light"
     },
     "output_type": "display_data"
    }
   ],
   "source": [
    "# 與範例相同, 不另外解說\n",
    "y_hat = x_lin * w + b\n",
    "plt.plot(x_lin, y, 'b.', label = 'data')\n",
    "plt.plot(x_lin, y_hat, 'r-', label = 'prediction')\n",
    "plt.title(\"Assume we have data points (And the prediction)\")\n",
    "plt.legend(loc = 2)\n",
    "plt.show()"
   ]
  },
  {
   "cell_type": "code",
   "execution_count": 7,
   "metadata": {},
   "outputs": [
    {
     "name": "stdout",
     "output_type": "stream",
     "text": [
      "The Mean squared error is 220.839\n",
      "The Mean absolute error is 11.446\n"
     ]
    }
   ],
   "source": [
    "# 執行 Function, 確認有沒有正常執行\n",
    "MSE = mean_squared_error(y, y_hat)\n",
    "MAE = mean_absolute_error(y, y_hat)\n",
    "print(\"The Mean squared error is %.3f\" % (MSE))\n",
    "print(\"The Mean absolute error is %.3f\" % (MAE))"
   ]
  },
  {
   "cell_type": "markdown",
   "metadata": {},
   "source": [
    "# [作業2]\n",
    "\n",
    "## 請上 Kaggle, 在 Competitions 或 Dataset 中找一組競賽或資料並寫下：\n",
    "\n",
    "我選擇的是 Kaggle Dataset 中的 \"Crimes in Boston\" 這組資料\n",
    "\n",
    "資料網址: https://www.kaggle.com/AnalyzeBoston/crimes-in-boston\n",
    "\n",
    "1. 你選的這組資料為何重要\n",
    "\n",
    "這組資料可以用來了解 Boston 的歹徒一般都犯下甚麼案？較常在哪裡犯案？白天跟晚上哪個時段較多案件？週中哪一天較多案件？可能節日犯案也有關係？\n",
    "\n",
    "透過分析資料找出歹徒特性，有望幫助 Boston 警察了解罪犯習性、逮捕罪犯、調整人力分配並降低犯罪率等。\n",
    "\n",
    "2. 資料從何而來 (tips: 譬如提供者是誰、以什麼方式蒐集)\n",
    "\n",
    "資料來源主要為 Boston Police Department (BPD)/Analyze Boston。\n",
    "\n",
    "他們提供罪犯犯案的種類，時間，地點等，主要收集方式是藉由民眾報案後，警員將其資料輸入資料庫中，因此可信度應該很高。\n",
    "\n",
    "3. 蒐集而來的資料型態為何\n",
    "\n",
    "資料擁有案件編號、犯案類型、犯案描述、犯案區域、日期、地點等，其中有數值資料也有非數值資料，因此有結構化資料與非結構化資料。\n",
    "\n",
    "4. 這組資料想解決的問題如何評估\n",
    "\n",
    "\n",
    "- 將標示案件種類的 OFFENSE_CODE_GROUP 以發生頻率繪製成圖，可求出不同種案件的發生頻率\n",
    "- 將標示案件發生時間的 HOUR 以發生頻率繪製成圖，可觀察案件在一天當中不同時間點的發生頻率\n",
    "- 將標示案件發生日子的 DAY 以發生頻率繪製成圖，可觀察一週當中不同天的發生頻率\n",
    "- 參考: https://www.kaggle.com/heesoo37/boston-crimes-starter-eda\n"
   ]
  },
  {
   "cell_type": "markdown",
   "metadata": {},
   "source": [
    "# [作業3]\n",
    "\n",
    "想像你經營一個自由載客車隊，你希望能透過數據分析以提升業績，請你思考並描述你如何規劃整體的分析/解決方案：\n",
    "\n",
    "1. 核心問題為何 (tips：如何定義 「提升業績 & 你的假設」)\n",
    "\n",
    "我認為能否提升業績勢必要先了解幾個核心問題:\n",
    "\n",
    "- 甚麼地區搭車的人數最多？\n",
    "- 甚麼時段搭車的人數最多？\n",
    "- 是否有地區車子太多或車子太少的情況？\n",
    "\n",
    "定出以上問題的原因在於希望了解目前的載客情境中，是否有車子供不應求/供過於求的時段/地區。\n",
    "\n",
    "相信如果能夠調整不同地區時段的車輛分配，避免供過於求的情況，安排較多的車輛應付供不應求的時段/地區，如此應該就能提升載客量，提高載客效率，降低司機待客時間。\n",
    "\n",
    "2. 資料從何而來 (tips：哪些資料可能會對你想問的問題產生影響 & 資料如何蒐集)\n",
    "\n",
    "資料來源主要為司機的手機與乘客的手機。\n",
    "\n",
    "有用的資料有:\n",
    "\n",
    "- 乘客的上車地點\n",
    "- 乘客的下車地點\n",
    "- 乘客的候車時間\n",
    "- 司機等候接單的時間\n",
    "- 司機接到乘客的時間\n",
    "\n",
    "\n",
    "3. 蒐集而來的資料型態為何\n",
    "\n",
    "資料型態有結構化資料也有非結構化資料。\n",
    "\n",
    "候車時間、接單時間皆是數值，為結構化資料。\n",
    "\n",
    "接單地點是文字，為非結構化資料。\n",
    "\n",
    "4. 你要回答的問題，其如何評估 (tips：你的假設如何驗證)\n",
    "\n",
    "在充分了解核心問題以後，我們可以根據分析結果，最佳化地分配車子的停靠點位，以及不同地區、時間服務的車子數量\n",
    "\n",
    "接著，再通過一天的載客量，客人等候車子的時間，司機等候接單的時間便可評估業績是否提升。"
   ]
  }
 ],
 "metadata": {
  "anaconda-cloud": {},
  "kernelspec": {
   "display_name": "Python 3",
   "language": "python",
   "name": "python3"
  },
  "language_info": {
   "codemirror_mode": {
    "name": "ipython",
    "version": 3
   },
   "file_extension": ".py",
   "mimetype": "text/x-python",
   "name": "python",
   "nbconvert_exporter": "python",
   "pygments_lexer": "ipython3",
   "version": "3.7.1"
  }
 },
 "nbformat": 4,
 "nbformat_minor": 1
}
