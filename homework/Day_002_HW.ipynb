{
 "cells": [
  {
   "cell_type": "markdown",
   "metadata": {},
   "source": [
    "## [作業目標]\n",
    "了解機器學習適合應用的領域與範疇。"
   ]
  },
  {
   "cell_type": "markdown",
   "metadata": {},
   "source": [
    "## [作業重點]\n",
    "透過瞭解機器學習的運作方式，找出非常適用機器學習應用的領域及其原因"
   ]
  },
  {
   "cell_type": "markdown",
   "metadata": {},
   "source": [
    "## 作業\n",
    "請找出一個你認為機器學習可以發光發熱的領域並闡述原因? "
   ]
  },
  {
   "cell_type": "markdown",
   "metadata": {},
   "source": [
    "- 所謂事出必有因，只要是有一定規律的事件，機器學習都能夠透過學習找出其中規律。我認為客製化的購物籃/推薦藍，會是機器學習發光發熱的領域。只要擁有一個人的穿衣習慣，穿衣風格，衣服價格，機器就可以推薦相似的衣服給他；只要擁有一個人的飲食習慣，常吃的食物，常喝的飲料，機器就可以推薦附近符合他口味的餐廳、飲料店。其他像是生活用品，旅遊景點，遊戲喜好等，都能夠藉由個人資料的積累，再在模型中加上一點的隨機性，給使用者最吻合他們需要的任何事物。"
   ]
  },
  {
   "cell_type": "code",
   "execution_count": null,
   "metadata": {},
   "outputs": [],
   "source": []
  }
 ],
 "metadata": {
  "kernelspec": {
   "display_name": "Python 3",
   "language": "python",
   "name": "python3"
  },
  "language_info": {
   "codemirror_mode": {
    "name": "ipython",
    "version": 3
   },
   "file_extension": ".py",
   "mimetype": "text/x-python",
   "name": "python",
   "nbconvert_exporter": "python",
   "pygments_lexer": "ipython3",
   "version": "3.7.1"
  }
 },
 "nbformat": 4,
 "nbformat_minor": 2
}
