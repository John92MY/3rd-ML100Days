{
 "cells": [
  {
   "cell_type": "markdown",
   "metadata": {},
   "source": [
    "## 練習時間"
   ]
  },
  {
   "cell_type": "markdown",
   "metadata": {},
   "source": [
    "請觀看李宏毅教授以神奇寶貝進化 CP 值預測的範例，解說何謂機器學習與過擬合。並回答以下問題"
   ]
  },
  {
   "cell_type": "markdown",
   "metadata": {},
   "source": [
    "[youtube](https://www.youtube.com/watch?v=fegAeph9UaA)"
   ]
  },
  {
   "cell_type": "markdown",
   "metadata": {},
   "source": [
    "### 1. 模型的泛化能力 (generalization) 是指什麼？\n",
    "為了避免模型 OverFitting，我們可以在損失函數中增加一個常數 lambda 乘上 weight 的項目，此一舉就稱作 Generalization。\n",
    "\n",
    "它可以使模型變得平滑，避免模型過度複雜而導致 OverFitting，然而我們也不希望模型變得過度平滑，因此 Generalization 的參數也需調整以取得最佳模型。\n",
    "\n",
    "\n",
    "### 2. 分類問題與回歸問題分別可用的目標函數有哪些？\n",
    "\n",
    "目標函數一般也稱為損失函數(Loss Function)，可分為以下幾種：\n",
    "\n",
    "分類問題：\n",
    "1. 交叉熵(cross-entropy)\n",
    "\n",
    "回歸問題：\n",
    "1. 均方誤差(Mean square error，MSE)\n",
    "2. 均絕對值誤差(Mean absolute error，MAE)\n"
   ]
  },
  {
   "cell_type": "code",
   "execution_count": null,
   "metadata": {},
   "outputs": [],
   "source": []
  }
 ],
 "metadata": {
  "kernelspec": {
   "display_name": "Python 3",
   "language": "python",
   "name": "python3"
  },
  "language_info": {
   "codemirror_mode": {
    "name": "ipython",
    "version": 3
   },
   "file_extension": ".py",
   "mimetype": "text/x-python",
   "name": "python",
   "nbconvert_exporter": "python",
   "pygments_lexer": "ipython3",
   "version": "3.7.1"
  }
 },
 "nbformat": 4,
 "nbformat_minor": 2
}
