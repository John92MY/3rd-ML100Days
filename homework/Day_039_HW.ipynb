{
 "cells": [
  {
   "cell_type": "markdown",
   "metadata": {},
   "source": [
    "## [作業重點]\n",
    "清楚了解 L1, L2 的意義與差異為何，並了解 LASSO 與 Ridge 之間的差異與使用情境"
   ]
  },
  {
   "cell_type": "markdown",
   "metadata": {},
   "source": [
    "## 作業"
   ]
  },
  {
   "cell_type": "markdown",
   "metadata": {},
   "source": [
    "請閱讀相關文獻，並回答下列問題\n",
    "\n",
    "[脊回歸 (Ridge Regression)](https://blog.csdn.net/daunxx/article/details/51578787)\n",
    "[Linear, Ridge, Lasso Regression 本質區別](https://www.zhihu.com/question/38121173)\n",
    "\n",
    "1. LASSO 回歸可以被用來作為 Feature selection 的工具，請了解 LASSO 模型為什麼可用來作 Feature selection\n",
    "\n",
    "LASSO 模型可以被用作 Feature Selection，原因為在 Loss Function 中加入 L1 Regularization 之後，在最小化加了 L1 (Lambda * |weight|) 的式子後，不重要的特征其相關 Weight 係數將會在計算後等於 0。\n",
    "\n",
    "如果用繪圖的方式去想，可以想象當最小化一個 2 參數其係數為 Weight1，Weight2 的方程式時，滿足此最小化方程的可行解(Weight1,Weight2)一定坐落在坐標軸上，也就是說其中一個係數為零。\n",
    "\n",
    "因此，在選取最佳 lambda 之後，使用 LASSO 建立模型時，使大部分模型係數為零，即可達到將不重要的特征消除的效果。\n",
    "\n",
    "參考資料：\n",
    "https://zhuanlan.zhihu.com/p/42122611\n",
    "\n",
    "2. 當自變數 (X) 存在高度共線性時，Ridge Regression 可以處理這樣的問題嗎?\n",
    "\n",
    "Ridge Regression 可以處理高度共線性問題。\n",
    "\n",
    "因為高度共線性的主要問題在於建立回歸模型時，產生很大的模型係數，這樣的模型對於輸入 x 的 Noise 敏感度非常高。\n",
    "\n",
    "而當我們使用 Ridge Regression 時，會在建立模型時加入懲罰函數，懲罰函數會限制模型係數過大，因而降低對 Noise 的敏感，求得合適的回歸模型。此種限制係數大小的方法我們稱作正規化，正規化可以解決共線性的問題。\n",
    "\n",
    "參考資料：\n",
    "\n",
    "https://www.twblogs.net/a/5b8d81432b717718833e812e\n"
   ]
  },
  {
   "cell_type": "code",
   "execution_count": null,
   "metadata": {},
   "outputs": [],
   "source": []
  },
  {
   "cell_type": "code",
   "execution_count": null,
   "metadata": {},
   "outputs": [],
   "source": []
  }
 ],
 "metadata": {
  "kernelspec": {
   "display_name": "Python 3",
   "language": "python",
   "name": "python3"
  },
  "language_info": {
   "codemirror_mode": {
    "name": "ipython",
    "version": 3
   },
   "file_extension": ".py",
   "mimetype": "text/x-python",
   "name": "python",
   "nbconvert_exporter": "python",
   "pygments_lexer": "ipython3",
   "version": "3.7.1"
  }
 },
 "nbformat": 4,
 "nbformat_minor": 2
}
