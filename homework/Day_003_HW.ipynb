{
 "cells": [
  {
   "cell_type": "markdown",
   "metadata": {},
   "source": [
    "## [作業目標]\n",
    "持續接觸有關機器學習的相關專案與最新技術"
   ]
  },
  {
   "cell_type": "markdown",
   "metadata": {},
   "source": [
    "## [作業重點]\n",
    "透過觀察頂尖公司的機器學習文章，來了解各公司是怎麼應用機器學習在實際的專案上"
   ]
  },
  {
   "cell_type": "markdown",
   "metadata": {},
   "source": [
    "## [作業]\n",
    "今天的作業希望大家能夠看看全球機器學習巨頭們在做的機器學習專案。以 google 為例，下圖是 Google 內部專案使用機器學習的數量，隨著時間進展，現在早已超過 2000 個專案在使用機器學習。"
   ]
  },
  {
   "cell_type": "markdown",
   "metadata": {},
   "source": [
    "![image](https://cdn-images-1.medium.com/max/800/1*U_L8qI8RmYS-MOBrYvXhSA.png)"
   ]
  },
  {
   "cell_type": "markdown",
   "metadata": {},
   "source": [
    "底下幫同學整理幾間知名企業的 blog 或機器學習網站 (自行搜尋也可)，這些網站都會整理最新的機器學習專案或者是技術文章，請挑選一篇文章閱讀並試著回答\n",
    "1. 專案的目標？ (要解決什麼問題）\n",
    "2. 使用的技術是？ (只需知道名稱即可，例如：使用 CNN 卷積神經網路做影像分類)\n",
    "3. 資料來源？ "
   ]
  },
  {
   "cell_type": "markdown",
   "metadata": {},
   "source": [
    "- [Google AI blog](https://ai.googleblog.com/)\n",
    "- [Facebook Research blog](https://research.fb.com/blog/)\n",
    "- [Apple machine learning journal](https://machinelearning.apple.com/)\n",
    "- [機器之心](https://www.jiqizhixin.com/)\n",
    "- [雷鋒網](http://www.leiphone.com/category/ai)"
   ]
  },
  {
   "cell_type": "markdown",
   "metadata": {},
   "source": [
    "1.專案目標\n",
    "\n",
    "專案的目標是要訓練出可以在最流行的六人製撲克牌遊戲 Texas hold'em 中，持續打敗頂尖選手的AI bot。\n",
    "\n",
    "此目標的困難有二：\n",
    "\n",
    "- 不只是兩人制的零和遊戲\n",
    "\n",
    "在兩人制的零和遊戲中，只要找出納許平衡，便可持續以最優策略獲得勝利。\n",
    "\n",
    "然而在超過兩人的遊戲中，有效率的找出納許平衡非常地困難，況且即便找出納許平衡，也不一定可以獲得勝利 (見於Lemonade Stand Game)。\n",
    "\n",
    "\n",
    "- 擁有複雜的隱藏資訊\n",
    "\n",
    "每個玩家所擁有的牌皆是隱藏資訊，玩家只能夠透過其他人是否蓋牌或投入籌碼來初步判斷牌的好壞。\n",
    "\n",
    "成功的 AI Bot 需要合理的使用這些隱藏資訊，平衡自己的策略，讓自己無法被預測，同時做出最好的選擇，才能在長期中贏得最多的勝利。\n",
    "\n",
    "為了應付複雜的隱藏資訊以及無法求得納許平衡的困難，作者研發出一種可不斷藉由經驗學習，在長期中獲得較多勝利 AI Bot。其 AI Bot 乃是藉由不斷的挑戰自己，探索每一手每人不同策略不同情況中自己選擇某策略可獲得勝利的幾率，來調整選擇該策略的幾率。\n",
    "\n",
    "最終該 AI Bot 在對戰人類中，取得了幾乎所有遊戲的勝利。\n",
    "\n",
    "2.使用的技術\n",
    "\n",
    "Monte Carlo Counterfactual Regret Minimization (MCCFR) algorithm.\n",
    "\n",
    "3.資料來源\n",
    "\n",
    "https://ai.facebook.com/blog/pluribus-first-ai-to-beat-pros-in-6-player-poker/"
   ]
  },
  {
   "cell_type": "code",
   "execution_count": null,
   "metadata": {},
   "outputs": [],
   "source": []
  }
 ],
 "metadata": {
  "kernelspec": {
   "display_name": "Python 3",
   "language": "python",
   "name": "python3"
  },
  "language_info": {
   "codemirror_mode": {
    "name": "ipython",
    "version": 3
   },
   "file_extension": ".py",
   "mimetype": "text/x-python",
   "name": "python",
   "nbconvert_exporter": "python",
   "pygments_lexer": "ipython3",
   "version": "3.7.1"
  }
 },
 "nbformat": 4,
 "nbformat_minor": 2
}
